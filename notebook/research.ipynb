{
 "cells": [
  {
   "cell_type": "markdown",
   "id": "a5c8e108",
   "metadata": {},
   "source": [
    "# ANIME DATA ANALYSIS"
   ]
  },
  {
   "cell_type": "code",
   "execution_count": null,
   "id": "8b0d0d84",
   "metadata": {},
   "outputs": [],
   "source": [
    "import warnings\n",
    "import pandas as pd\n",
    "import numpy as np\n",
    "import matplotlib.pyplot as plt\n",
    "from wordcloud import WordCloud\n",
    "from collections import defaultdict\n",
    "\n",
    "import tensorflow as tf\n",
    "from tensorflow.keras import layers\n",
    "from tensorflow.keras.models import Model\n",
    "from tensorflow.keras.optimizers import Adam\n",
    "from tensorflow.keras.layers import Activation, BatchNormalization, Input, Embedding, Dot, Dense, Flatten\n",
    "from tensorflow.keras.callbacks import ModelCheckpoint, LearningRateScheduler, TensorBoard, EarlyStopping\n",
    "\n",
    "warnings.filterwarnings(\"ignore\")\n",
    "%matplotlib inline"
   ]
  },
  {
   "cell_type": "markdown",
   "id": "e7c07f27",
   "metadata": {},
   "source": [
    "# Working on animelist.csv"
   ]
  },
  {
   "cell_type": "code",
   "execution_count": null,
   "id": "136f1d8b",
   "metadata": {},
   "outputs": [],
   "source": [
    "animelist = pd.read_csv('../artifacts/raw/animelist.csv', low_memory=True, usecols = [\"user_id\",\"anime_id\", \"rating\"])"
   ]
  },
  {
   "cell_type": "code",
   "execution_count": null,
   "id": "2e47aacc",
   "metadata": {},
   "outputs": [],
   "source": [
    "animelist.info()"
   ]
  },
  {
   "cell_type": "code",
   "execution_count": null,
   "id": "7fcbe733",
   "metadata": {},
   "outputs": [],
   "source": [
    "animelist.head()"
   ]
  },
  {
   "cell_type": "code",
   "execution_count": null,
   "id": "0da34921",
   "metadata": {},
   "outputs": [],
   "source": [
    "len(animelist)"
   ]
  },
  {
   "cell_type": "markdown",
   "id": "fa9886bc",
   "metadata": {},
   "source": [
    "# Data Processing\n",
    "\n",
    "Finding all the Experienced users who have rated more than 299 animes"
   ]
  },
  {
   "cell_type": "code",
   "execution_count": null,
   "id": "48d55f9b",
   "metadata": {},
   "outputs": [],
   "source": [
    "n_ratings = animelist[\"user_id\"].value_counts()\n",
    "n_ratings"
   ]
  },
  {
   "cell_type": "code",
   "execution_count": null,
   "id": "3b6053a7",
   "metadata": {},
   "outputs": [],
   "source": [
    "\n",
    "ratings_df = animelist[animelist[\"user_id\"].isin(n_ratings[n_ratings >= 50].index)]\n",
    "print(len(ratings_df))"
   ]
  },
  {
   "cell_type": "code",
   "execution_count": null,
   "id": "727c9648",
   "metadata": {},
   "outputs": [],
   "source": [
    "min_rating = min(ratings_df[\"rating\"])\n",
    "min_rating"
   ]
  },
  {
   "cell_type": "code",
   "execution_count": null,
   "id": "41537bcd",
   "metadata": {},
   "outputs": [],
   "source": [
    "max_rating = max(ratings_df[\"rating\"])\n",
    "max_rating"
   ]
  },
  {
   "cell_type": "code",
   "execution_count": null,
   "id": "30b68c3d",
   "metadata": {},
   "outputs": [],
   "source": [
    "avg_rating = np.mean(ratings_df[\"rating\"])\n",
    "avg_rating"
   ]
  },
  {
   "cell_type": "markdown",
   "id": "981170c9",
   "metadata": {},
   "source": [
    "Min-Max Scaling the \"rating\" variable"
   ]
  },
  {
   "cell_type": "code",
   "execution_count": null,
   "id": "21781fc0",
   "metadata": {},
   "outputs": [],
   "source": [
    "ratings_df[\"rating\"] = ratings_df[\"rating\"].apply(lambda x: (x - min_rating)/(max_rating - min_rating)).values.astype(np.float64)\n"
   ]
  },
  {
   "cell_type": "code",
   "execution_count": null,
   "id": "33438fc6",
   "metadata": {},
   "outputs": [],
   "source": [
    "ratings_df.duplicated().sum()"
   ]
  },
  {
   "cell_type": "code",
   "execution_count": null,
   "id": "79750ef1",
   "metadata": {},
   "outputs": [],
   "source": [
    "ratings_df.isnull().sum()"
   ]
  },
  {
   "cell_type": "code",
   "execution_count": null,
   "id": "5371143b",
   "metadata": {},
   "outputs": [],
   "source": [
    "user_ids = ratings_df[\"user_id\"].unique().tolist()\n",
    "len(user_ids)"
   ]
  },
  {
   "cell_type": "markdown",
   "id": "a30a34e9",
   "metadata": {},
   "source": [
    "Creating encoders and Decoders for Users and Animes"
   ]
  },
  {
   "cell_type": "code",
   "execution_count": null,
   "id": "35207c36",
   "metadata": {},
   "outputs": [],
   "source": [
    "user2user_encoded = {x:i for i , x in enumerate(user_ids)}\n",
    "user2user_decoded = {i:x for i , x in enumerate(user_ids)}"
   ]
  },
  {
   "cell_type": "code",
   "execution_count": null,
   "id": "284f43df",
   "metadata": {},
   "outputs": [],
   "source": [
    "print(len(user2user_encoded), len(user2user_decoded))\n",
    "print(list(user2user_encoded.items())[:5])\n",
    "print(list(user2user_decoded.items())[:5])"
   ]
  },
  {
   "cell_type": "code",
   "execution_count": null,
   "id": "7621441a",
   "metadata": {},
   "outputs": [],
   "source": [
    "ratings_df[\"user\"] = ratings_df[\"user_id\"].map(user2user_encoded)\n",
    "ratings_df.head()"
   ]
  },
  {
   "cell_type": "code",
   "execution_count": null,
   "id": "7ac9465b",
   "metadata": {},
   "outputs": [],
   "source": [
    "anime_ids = ratings_df[\"anime_id\"].unique().tolist()\n",
    "anime2anime_encoded = {x:i for i , x in enumerate(anime_ids)}\n",
    "anime2anime_decoded = {i:x for i , x in enumerate(anime_ids)}\n",
    "ratings_df[\"anime\"] = ratings_df[\"anime_id\"].map(anime2anime_encoded)\n",
    "ratings_df.head()"
   ]
  },
  {
   "cell_type": "code",
   "execution_count": null,
   "id": "6bb59bac",
   "metadata": {},
   "outputs": [],
   "source": [
    "print(len(anime2anime_encoded), len(anime2anime_decoded))\n",
    "print(list(anime2anime_encoded.items())[:5])\n",
    "print(list(anime2anime_decoded.items())[:5])"
   ]
  },
  {
   "cell_type": "markdown",
   "id": "8c5e2011",
   "metadata": {},
   "source": [
    "Shuffling the data"
   ]
  },
  {
   "cell_type": "code",
   "execution_count": null,
   "id": "94c3df29",
   "metadata": {},
   "outputs": [],
   "source": [
    "ratings_df = ratings_df.sample(frac = 1, random_state=43).reset_index(drop=True)\n",
    "ratings_df.head()"
   ]
  },
  {
   "cell_type": "code",
   "execution_count": null,
   "id": "3584a44a",
   "metadata": {},
   "outputs": [],
   "source": [
    "X = ratings_df[[\"user\", \"anime\"]].values\n",
    "y = ratings_df[\"rating\"]"
   ]
  },
  {
   "cell_type": "code",
   "execution_count": null,
   "id": "86e8bab6",
   "metadata": {},
   "outputs": [],
   "source": [
    "test_size = 1000\n",
    "train_indices = ratings_df.shape[0] - test_size\n"
   ]
  },
  {
   "cell_type": "markdown",
   "id": "469476c6",
   "metadata": {},
   "source": [
    "We will test on only 1000 rows of the data"
   ]
  },
  {
   "cell_type": "code",
   "execution_count": null,
   "id": "73a33baa",
   "metadata": {},
   "outputs": [],
   "source": [
    "X_train, X_test, y_train, y_test = (\n",
    "    X[:train_indices],\n",
    "    X[train_indices:],\n",
    "    y[:train_indices],\n",
    "    y[train_indices:]\n",
    ")"
   ]
  },
  {
   "cell_type": "code",
   "execution_count": null,
   "id": "25a33606",
   "metadata": {},
   "outputs": [],
   "source": [
    "print(f\"X_train shape: {X_train.shape}\")\n",
    "print(f\"X_test shape: {X_test.shape}\")\n",
    "print(f\"y_train shape: {y_train.shape}\")\n",
    "print(f\"y_test shape: {y_test.shape}\")"
   ]
  },
  {
   "cell_type": "code",
   "execution_count": null,
   "id": "dc5f2003",
   "metadata": {},
   "outputs": [],
   "source": [
    "type(X_train), type(X_test), type(y_train), type(y_test)"
   ]
  },
  {
   "cell_type": "markdown",
   "id": "1091cfcb",
   "metadata": {},
   "source": [
    "We will separate the Users and Animes as two separate arrays within a list"
   ]
  },
  {
   "cell_type": "code",
   "execution_count": null,
   "id": "2da1ec26",
   "metadata": {},
   "outputs": [],
   "source": [
    "X_train_array = [ X_train[:,0], X_train[:,1]]\n",
    "X_test_array = [ X_test[:,0], X_test[:,1]]"
   ]
  },
  {
   "cell_type": "markdown",
   "id": "ed681330",
   "metadata": {},
   "source": [
    "# Model Architecture"
   ]
  },
  {
   "cell_type": "code",
   "execution_count": null,
   "id": "1f9fc1a4",
   "metadata": {},
   "outputs": [],
   "source": [
    "def RecommenderNet():\n",
    "    embedding_size = 128\n",
    "    \n",
    "    user = Input(name=\"user\", shape=[1])\n",
    "    user_embedding = Embedding(name=\"user_embedding\", input_dim=len(user2user_encoded), output_dim=embedding_size)(user)\n",
    "    \n",
    "    anime = Input(name=\"anime\", shape=[1])\n",
    "    anime_embedding = Embedding(name=\"anime_embedding\", input_dim=len(anime2anime_encoded), output_dim=embedding_size)(anime)\n",
    "    \n",
    "    x = Dot(name=\"dot_product\", normalize=True, axes=2)([user_embedding, anime_embedding])\n",
    "    x = Flatten()(x)\n",
    "    x = Dense(1, kernel_initializer=\"he_normal\")(x)\n",
    "    x = BatchNormalization()(x)\n",
    "    x = Activation(\"sigmoid\")(x)\n",
    "    \n",
    "    model = Model(inputs=[user, anime], outputs=x)\n",
    "    model.compile(loss=\"binary_crossentropy\", optimizer='Adam', metrics=[\"mae\",\"mse\"])\n",
    "    return model"
   ]
  },
  {
   "cell_type": "code",
   "execution_count": null,
   "id": "836d3ff7",
   "metadata": {},
   "outputs": [],
   "source": [
    "model = RecommenderNet()\n",
    "model.summary()"
   ]
  },
  {
   "cell_type": "code",
   "execution_count": null,
   "id": "ed5e3646",
   "metadata": {},
   "outputs": [],
   "source": [
    "start_lr = 0.00001\n",
    "min_lr = 0.0001\n",
    "max_lr = 0.00005\n",
    "batch_size = 10000\n",
    "\n",
    "ramup_epochs = 5\n",
    "sustain_epochs = 0\n",
    "exp_decay = 0.8\n",
    "\n",
    "def lrfn(epoch):\n",
    "    if epoch < ramup_epochs:\n",
    "        return (max_lr-start_lr)/ramup_epochs*epoch + start_lr\n",
    "    elif epoch < ramup_epochs+sustain_epochs:\n",
    "        return max_lr\n",
    "    else:\n",
    "        return(max_lr-min_lr)*exp_decay**(epoch-ramup_epochs-sustain_epochs)+min_lr"
   ]
  },
  {
   "cell_type": "code",
   "execution_count": null,
   "id": "a9da4b19",
   "metadata": {},
   "outputs": [],
   "source": [
    "lr_callback = LearningRateScheduler(lambda epoch:lrfn(epoch), verbose = 0)\n",
    "checkpoint_filepath = './weights.weights.h5'\n",
    "\n",
    "model_checkpoint = ModelCheckpoint(filepath=checkpoint_filepath, save_weights_only=True, monitor='val_loss', mode='min', save_best_only=True)\n",
    "early_stopping = EarlyStopping(patience=3, monitor=\"val_loss\", mode=\"min\", restore_best_weights=True)"
   ]
  },
  {
   "cell_type": "code",
   "execution_count": null,
   "id": "9249296d",
   "metadata": {},
   "outputs": [],
   "source": [
    "my_callbacks = [model_checkpoint, lr_callback, early_stopping]"
   ]
  },
  {
   "cell_type": "code",
   "execution_count": null,
   "id": "da4b1345",
   "metadata": {},
   "outputs": [],
   "source": [
    "history = model.fit(\n",
    "    x = X_train_array,\n",
    "    y = y_train,\n",
    "    batch_size = batch_size,\n",
    "    epochs = 20,\n",
    "    verbose = 1,\n",
    "    validation_data = (X_test_array, y_test),\n",
    "    callbacks = my_callbacks\n",
    ")"
   ]
  },
  {
   "cell_type": "code",
   "execution_count": null,
   "id": "0340478f",
   "metadata": {},
   "outputs": [],
   "source": [
    "metrics = [\"loss\", \"mae\", \"mse\"]\n",
    "def plot_history(history, metrics):\n",
    "    plt.figure(figsize=(20, 5))\n",
    "    for i, metric in enumerate(metrics):\n",
    "        plt.subplot(1, len(metrics), i + 1)\n",
    "        plt.plot(history.history[metric], label=metric)\n",
    "        plt.plot(history.history[\"val_\" + metric], label=\"val_\" + metric)\n",
    "        plt.title(metric)\n",
    "        plt.xlabel(\"Epoch\")\n",
    "        plt.ylabel(metric)\n",
    "        plt.legend()\n",
    "    plt.show()\n",
    "plot_history(history, metrics)    "
   ]
  },
  {
   "cell_type": "code",
   "execution_count": null,
   "id": "56fb0f69",
   "metadata": {},
   "outputs": [],
   "source": [
    "def extract_weights(name, model):\n",
    "    weight_layer = model.get_layer(name)\n",
    "    weights = weight_layer.get_weights()[0]\n",
    "    weights = weights/np.linalg.norm(weights, axis=1).reshape((-1,1))\n",
    "    return weights"
   ]
  },
  {
   "cell_type": "code",
   "execution_count": null,
   "id": "43a4d614",
   "metadata": {},
   "outputs": [],
   "source": [
    "anime_weights = extract_weights(\"anime_embedding\", model)\n",
    "user_weights = extract_weights(\"user_embedding\", model)"
   ]
  },
  {
   "cell_type": "markdown",
   "id": "56e54bbc",
   "metadata": {},
   "source": [
    "# Working on anime.csv"
   ]
  },
  {
   "cell_type": "code",
   "execution_count": null,
   "id": "36440c9a",
   "metadata": {},
   "outputs": [],
   "source": [
    "anime = pd.read_csv(\"../artifacts/raw/anime.csv\")\n",
    "anime.head(2)"
   ]
  },
  {
   "cell_type": "code",
   "execution_count": null,
   "id": "64b9c115",
   "metadata": {},
   "outputs": [],
   "source": [
    "anime = anime.replace(\"Unknown\", np.nan)"
   ]
  },
  {
   "cell_type": "code",
   "execution_count": null,
   "id": "25e0337e",
   "metadata": {},
   "outputs": [],
   "source": [
    "def get_anime_name(df, anime_id):\n",
    "    try:\n",
    "        name = df[df.anime_id == anime_id].eng_version.values[0]\n",
    "        if name is np.nan:\n",
    "            name = df[df.anime_id == anime_id].Name.values[0]\n",
    "    except:\n",
    "        print(f\"Anime id {anime_id} not found\")\n",
    "    return name"
   ]
  },
  {
   "cell_type": "code",
   "execution_count": null,
   "id": "42e6471f",
   "metadata": {},
   "outputs": [],
   "source": [
    "anime[\"anime_id\"] = anime[\"MAL_ID\"]\n",
    "anime[\"eng_version\"] = anime[\"English name\"]\n",
    "anime[\"eng_version\"] = anime.anime_id.apply(lambda x: get_anime_name(anime, x))\n",
    "anime.head(2)"
   ]
  },
  {
   "cell_type": "code",
   "execution_count": null,
   "id": "3f237d3e",
   "metadata": {},
   "outputs": [],
   "source": [
    "anime67 = get_anime_name(anime, 6702)\n",
    "anime67"
   ]
  },
  {
   "cell_type": "code",
   "execution_count": null,
   "id": "d5b5ae84",
   "metadata": {},
   "outputs": [],
   "source": [
    "anime.sort_values(by=[\"Score\"], inplace=True, ascending=False, kind=\"quicksort\", na_position=\"last\")\n",
    "anime.head()"
   ]
  },
  {
   "cell_type": "code",
   "execution_count": null,
   "id": "53937753",
   "metadata": {},
   "outputs": [],
   "source": [
    "anime.columns"
   ]
  },
  {
   "cell_type": "code",
   "execution_count": null,
   "id": "c51bc509",
   "metadata": {},
   "outputs": [],
   "source": [
    "anime = anime[[\"anime_id\", \"eng_version\", \"Score\", \"Genres\", \"Episodes\", \"Type\", \"Premiered\", \"Members\"]]"
   ]
  },
  {
   "cell_type": "code",
   "execution_count": null,
   "id": "953cd7c9",
   "metadata": {},
   "outputs": [],
   "source": [
    "anime.head(2)"
   ]
  },
  {
   "cell_type": "code",
   "execution_count": null,
   "id": "be73ee97",
   "metadata": {},
   "outputs": [],
   "source": [
    "def getAnimeFrame(user_input, df):\n",
    "    if isinstance(user_input, int):\n",
    "        return df[df[\"anime_id\"] == user_input]\n",
    "    elif isinstance(user_input, str):\n",
    "        return df[df[\"eng_version\"] == user_input]"
   ]
  },
  {
   "cell_type": "code",
   "execution_count": null,
   "id": "850afca6",
   "metadata": {},
   "outputs": [],
   "source": [
    "getAnimeFrame(9253, anime)"
   ]
  },
  {
   "cell_type": "code",
   "execution_count": null,
   "id": "039fe64d",
   "metadata": {},
   "outputs": [],
   "source": [
    "getAnimeFrame(\"Steins;Gate\", anime)"
   ]
  },
  {
   "cell_type": "markdown",
   "id": "9a034ccb",
   "metadata": {},
   "source": [
    "# Working on anime_with_synopsis.csv"
   ]
  },
  {
   "cell_type": "code",
   "execution_count": null,
   "id": "7dafd42f",
   "metadata": {},
   "outputs": [],
   "source": [
    "cols = [\"MAL_ID\",\"Name\",\"Genres\",\"sypnopsis\"]\n",
    "synopsis_df = pd.read_csv(\"../artifacts/raw/anime_with_synopsis.csv\", usecols=cols)\n",
    "synopsis_df.head()"
   ]
  },
  {
   "cell_type": "code",
   "execution_count": null,
   "id": "eca8984c",
   "metadata": {},
   "outputs": [],
   "source": [
    "synopsis_df[synopsis_df[\"Name\"] == \"Steins;Gate\"]"
   ]
  },
  {
   "cell_type": "code",
   "execution_count": null,
   "id": "adab9065",
   "metadata": {},
   "outputs": [],
   "source": []
  },
  {
   "cell_type": "code",
   "execution_count": null,
   "id": "36e90273",
   "metadata": {},
   "outputs": [],
   "source": [
    "def getSynopsis(user_input, df):\n",
    "    if isinstance(user_input, int):\n",
    "        return df[df[\"MAL_ID\"] == user_input].sypnopsis.values[0]\n",
    "    elif isinstance(user_input, str):\n",
    "        return df[df[\"Name\"] == user_input].sypnopsis.values[0]"
   ]
  },
  {
   "cell_type": "code",
   "execution_count": null,
   "id": "86237404",
   "metadata": {},
   "outputs": [],
   "source": [
    "getSynopsis(\"Steins;Gate\", synopsis_df)"
   ]
  },
  {
   "cell_type": "markdown",
   "id": "fe828c44",
   "metadata": {},
   "source": [
    "# Building Content Based Recommendation"
   ]
  },
  {
   "cell_type": "code",
   "execution_count": null,
   "id": "36ba1ea7",
   "metadata": {},
   "outputs": [],
   "source": [
    "pd.set_option(\"max_colwidth\", None)"
   ]
  },
  {
   "cell_type": "code",
   "execution_count": null,
   "id": "0e5ceb82",
   "metadata": {},
   "outputs": [],
   "source": [
    "def find_similar_anime(name, anime_weights, anime2anime_encoded, anime2anime_decoded, anime_df, synopsis_df, n=5, return_dist=False, neg=False):\n",
    "    try:\n",
    "        index = getAnimeFrame(name, anime_df).anime_id.values[0]\n",
    "        encoded_index = anime2anime_encoded.get(index)\n",
    "        weights = anime_weights\n",
    "        dists = np.dot(weights, weights[encoded_index])\n",
    "        sorted_dists = np.argsort(dists)\n",
    "        \n",
    "        n = n+1\n",
    "        \n",
    "        if neg:\n",
    "            closest=sorted_dists[:n]\n",
    "        else:\n",
    "            closest=sorted_dists[-n:]\n",
    "        \n",
    "        print(f\"Anime Closest to {name}\")\n",
    "    \n",
    "        if return_dist:\n",
    "            return dists,closest\n",
    "        \n",
    "        SimilarityArray = []\n",
    "\n",
    "        for close in closest:\n",
    "            try:\n",
    "                decoded_id = anime2anime_decoded.get(close)\n",
    "                \n",
    "                synopsis = getSynopsis(decoded_id, synopsis_df)\n",
    "                \n",
    "                anime_frame = getAnimeFrame(decoded_id, anime_df)\n",
    "                anime_name = anime_frame[\"eng_version\"].values[0]\n",
    "                genre = anime_frame[\"Genres\"].values[0]\n",
    "                \n",
    "                similarity = dists[close]\n",
    "                \n",
    "                SimilarityArray.append({\"name\": anime_name,\n",
    "                                        \"anime_id\": decoded_id,\n",
    "                                        \"similarity\": similarity,\n",
    "                                        \"genre\": genre,\n",
    "                                        \"synopsis\": synopsis\n",
    "                                        })\n",
    "            except Exception as e:\n",
    "                # print(f\"Error: {e}\")\n",
    "                continue    \n",
    "        Frame = pd.DataFrame(SimilarityArray).sort_values(by=[\"similarity\"], ascending=False)\n",
    "        return Frame[Frame.anime_id != index].drop([\"anime_id\"], axis=1)\n",
    "\n",
    "    except Exception as e:\n",
    "        print(f\"Error: {e}\")\n",
    "\n",
    " "
   ]
  },
  {
   "cell_type": "code",
   "execution_count": null,
   "id": "129c0d99",
   "metadata": {},
   "outputs": [],
   "source": [
    "find_similar_anime(\"Steins;Gate\", anime_weights, anime2anime_encoded, anime2anime_decoded, anime, synopsis_df)"
   ]
  },
  {
   "cell_type": "markdown",
   "id": "6f3a8aa5",
   "metadata": {},
   "source": [
    "# User Based Recommendation"
   ]
  },
  {
   "cell_type": "code",
   "execution_count": null,
   "id": "9f7e2492",
   "metadata": {},
   "outputs": [],
   "source": [
    "def find_similar_user(input_item, user_weights, user2user_encoded, user2user_decoded, n=5, return_dist=False, neg = False):\n",
    "    try:\n",
    "        index = input_item\n",
    "        encoded_index = user2user_encoded.get(index)\n",
    "        weights = user_weights\n",
    "        dists = np.dot(weights, weights[encoded_index])\n",
    "        sorted_dists = np.argsort(dists)\n",
    "        \n",
    "        n = n+1\n",
    "        if neg:\n",
    "            closest=sorted_dists[:n]\n",
    "        else:\n",
    "            closest=sorted_dists[-n:]\n",
    "        \n",
    "        print(f\"Users Closest to {input_item}\")\n",
    "    \n",
    "        if return_dist:\n",
    "            return dists,closest\n",
    "        \n",
    "        SimilarityArray = []\n",
    "\n",
    "        for close in closest:\n",
    "            try:\n",
    "                similarity = dists[close]\n",
    "                \n",
    "                if isinstance(input_item, int):\n",
    "                    decoded_id = user2user_decoded.get(close)\n",
    "                    SimilarityArray.append({\n",
    "                        \"similar_users\": decoded_id,\n",
    "                        \"similarity\": similarity\n",
    "                    })\n",
    "\n",
    "            except Exception as e:\n",
    "                print(f\"Error: {e}\")\n",
    "                continue    \n",
    "        similar_users = pd.DataFrame(SimilarityArray).sort_values(by=[\"similarity\"], ascending=False)\n",
    "        similar_users = similar_users[similar_users[\"similar_users\"] !=index]\n",
    "        return similar_users\n",
    "    \n",
    "    except Exception as e:\n",
    "        print(f\"Error: {e}\")"
   ]
  },
  {
   "cell_type": "code",
   "execution_count": null,
   "id": "cdceb0d7",
   "metadata": {},
   "outputs": [],
   "source": [
    "find_similar_user(int(11880), user_weights, user2user_encoded, user2user_decoded, n=5)"
   ]
  },
  {
   "cell_type": "code",
   "execution_count": null,
   "id": "264f115b",
   "metadata": {},
   "outputs": [],
   "source": [
    "def showWordCloud(all_genres):\n",
    "    genre_cloud = WordCloud(width=800, height=400, background_color='white', colormap='gnuplot').generate_from_frequencies(all_genres)\n",
    "    plt.figure(figsize=(15, 8))\n",
    "    plt.imshow(genre_cloud, interpolation='bilinear')\n",
    "    plt.axis('off')\n",
    "    plt.show()"
   ]
  },
  {
   "cell_type": "code",
   "execution_count": null,
   "id": "9594ff9c",
   "metadata": {},
   "outputs": [],
   "source": [
    "def getFavGenre(frame, plot=False):\n",
    "    frame.dropna(inplace=False)\n",
    "    all_genres = defaultdict(int)\n",
    "\n",
    "    genres_list = []\n",
    "    for genres in frame[\"Genres\"]:\n",
    "        if isinstance(genres, str):\n",
    "            for genre in genres.split(\",\"):\n",
    "                genres_list.append(genre)\n",
    "                all_genres[genre.strip()] += 1\n",
    "    if plot:\n",
    "        showWordCloud(all_genres)\n",
    "    return genres_list"
   ]
  },
  {
   "cell_type": "code",
   "execution_count": null,
   "id": "8352431d",
   "metadata": {},
   "outputs": [],
   "source": [
    "x = getAnimeFrame(1,anime)\n",
    "getFavGenre(x, plot=True)"
   ]
  },
  {
   "cell_type": "code",
   "execution_count": null,
   "id": "5bf66ccb",
   "metadata": {},
   "outputs": [],
   "source": [
    "ratings_df.head()"
   ]
  },
  {
   "cell_type": "code",
   "execution_count": null,
   "id": "1074c279",
   "metadata": {},
   "outputs": [],
   "source": [
    "def get_user_preferences(user_id, ratings_df, verbose=0, plot=False):\n",
    "\n",
    "    animes_watched_by_user = ratings_df[ratings_df[\"user_id\"] == user_id]"
   ]
  },
  {
   "cell_type": "code",
   "execution_count": null,
   "id": "fbea9a98",
   "metadata": {},
   "outputs": [],
   "source": []
  }
 ],
 "metadata": {
  "kernelspec": {
   "display_name": "venv",
   "language": "python",
   "name": "python3"
  },
  "language_info": {
   "codemirror_mode": {
    "name": "ipython",
    "version": 3
   },
   "file_extension": ".py",
   "mimetype": "text/x-python",
   "name": "python",
   "nbconvert_exporter": "python",
   "pygments_lexer": "ipython3",
   "version": "3.11.12"
  }
 },
 "nbformat": 4,
 "nbformat_minor": 5
}
